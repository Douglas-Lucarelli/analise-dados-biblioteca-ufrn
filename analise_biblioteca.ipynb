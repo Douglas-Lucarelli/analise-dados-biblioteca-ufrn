{
 "cells": [
  {
   "cell_type": "markdown",
   "id": "9957e7e4",
   "metadata": {},
   "source": [
    "## Desafio de Análise de Dados: Empréstimos de Acervos das Bibliotecas da UFRN\n",
    "\n",
    "Neste desafio do #7DaysOfCode, o objetivo é analisar os dados de empréstimos dos acervos do sistema de bibliotecas da UFRN, utilizando as ferramentas do Python como o Pandas. A partir dessa análise, será possível extrair insights valiosos sobre o comportamento dos empréstimos ao longo dos últimos anos, identificar padrões e formular hipóteses para melhorar a gestão e os processos das bibliotecas.\n",
    "\n",
    "A análise exploratória de dados (EDA) será a principal metodologia utilizada. A EDA é fundamental para compreender as tendências nos dados, explorar informações sobre os processos, usuários e recursos das bibliotecas, além de gerar novas perguntas que podem orientar decisões mais assertivas na gestão do acervo. Durante o processo, vamos focar em questões como:\n",
    "\n",
    "A quantidade de empréstimos tem aumentado ou diminuído ao longo dos anos?\n",
    "\n",
    "Quais bibliotecas apresentam o maior número de empréstimos?\n",
    "\n",
    "Quais são os temas mais e menos requisitados pelos usuários?\n",
    "\n",
    "Para atingir esses objetivos, o trabalho será dividido em várias etapas, desde a coleta e transformação dos dados até a criação de visualizações e a exportação de tabelas para um formato utilizável em diferentes contextos. O Pandas será utilizado para importar dados de diferentes fontes, realizar transformações necessárias e, por fim, gerar insights que possam ser apresentados de forma clara e eficaz.\n",
    "\n",
    "Com esses dados, será possível entender melhor o funcionamento do sistema de bibliotecas e fornecer informações para tomadas de decisão mais informadas, visando melhorar a experiência dos usuários e a utilização dos recursos disponíveis.\n"
   ]
  },
  {
   "cell_type": "code",
   "execution_count": null,
   "id": "fd9dacf1",
   "metadata": {},
   "outputs": [],
   "source": [
    "# Instalação das bibliotecas necessárias\n",
    "%pip install pandas\n",
    "%pip install fastparquet\n",
    "%pip install seaborn\n",
    "%pip install matplotlib\n",
    "%pip install plotly\n",
    "%pip install numpy\n"
   ]
  },
  {
   "cell_type": "code",
   "execution_count": null,
   "id": "dd62bba6",
   "metadata": {},
   "outputs": [],
   "source": [
    "# Importação das bibliotecas necessárias\n",
    "import pandas as pd\n",
    "import matplotlib.ticker as ticker\n",
    "import matplotlib.pyplot as plt\n",
    "import numpy as np\n",
    "import seaborn as sns\n",
    "import glob\n",
    "from io import StringIO"
   ]
  },
  {
   "cell_type": "markdown",
   "id": "ddc30b6e",
   "metadata": {},
   "source": [
    "### Coletando os dados de empréstimos (2010 a 2020)"
   ]
  },
  {
   "cell_type": "code",
   "execution_count": null,
   "id": "00c09830",
   "metadata": {},
   "outputs": [],
   "source": [
    "# Caminho para a pasta com os arquivos\n",
    "caminho = 'dataset/dados_emprestimos/*.csv'\n",
    "\n",
    "# Obter todos os arquivos CSV\n",
    "arquivos = glob.glob(caminho)\n",
    "\n",
    "# Lista para armazenar os DataFrames\n",
    "dfs = []\n",
    "\n",
    "# Ler cada arquivo e adicionar à lista\n",
    "for arquivo in arquivos:\n",
    "    df = pd.read_csv(arquivo)\n",
    "    dfs.append(df)\n",
    "\n",
    "print(f\"Total de arquivos lidos: {len(arquivos)}\")"
   ]
  },
  {
   "cell_type": "markdown",
   "id": "b8b36855",
   "metadata": {},
   "source": [
    "### Concatenando os DataFrames"
   ]
  },
  {
   "cell_type": "code",
   "execution_count": null,
   "id": "c489dbe2",
   "metadata": {},
   "outputs": [],
   "source": [
    "emprestimos = pd.concat(dfs, ignore_index=True)\n",
    "emprestimos.value_counts()"
   ]
  },
  {
   "cell_type": "markdown",
   "id": "5eca1816",
   "metadata": {},
   "source": [
    "### Verificando Duplicatas"
   ]
  },
  {
   "cell_type": "code",
   "execution_count": null,
   "id": "f77e2246",
   "metadata": {},
   "outputs": [],
   "source": [
    "duplicatas = emprestimos[emprestimos.duplicated()]\n",
    "print(f\"Total de duplicatas encontradas: {len(duplicatas)}\")"
   ]
  },
  {
   "cell_type": "markdown",
   "id": "9048d157",
   "metadata": {},
   "source": [
    "### Excluindo Duplicatas"
   ]
  },
  {
   "cell_type": "code",
   "execution_count": null,
   "id": "bdecf0d1",
   "metadata": {},
   "outputs": [],
   "source": [
    "emprestimos = emprestimos.drop_duplicates()"
   ]
  },
  {
   "cell_type": "code",
   "execution_count": null,
   "id": "b99ab7f1",
   "metadata": {},
   "outputs": [],
   "source": [
    "# Exibindo as primeiras linhas do DataFrame\n",
    "emprestimos"
   ]
  },
  {
   "cell_type": "markdown",
   "id": "3d23fed0",
   "metadata": {},
   "source": [
    "### Importando os Dados de exemplares"
   ]
  },
  {
   "cell_type": "code",
   "execution_count": null,
   "id": "fd1c911b",
   "metadata": {},
   "outputs": [],
   "source": [
    "dados_exemplares = pd.read_parquet('https://github.com/FranciscoFoz/7_Days_of_Code_Alura-Python-Pandas/raw/main/Dia_1-Importando_dados/Datasets/dados_exemplares.parquet')\n",
    "dados_exemplares"
   ]
  },
  {
   "cell_type": "code",
   "execution_count": null,
   "id": "44c01364",
   "metadata": {},
   "outputs": [],
   "source": [
    "todos_emprestimos = emprestimos.merge(dados_exemplares, on=\"codigo_barras\", how=\"inner\")\n",
    "todos_emprestimos.head()"
   ]
  },
  {
   "cell_type": "markdown",
   "id": "4fab69a3",
   "metadata": {},
   "source": [
    "### Verificando a estrutura do DataFrame"
   ]
  },
  {
   "cell_type": "code",
   "execution_count": null,
   "id": "82591b08",
   "metadata": {},
   "outputs": [],
   "source": [
    "todos_emprestimos.dtypes"
   ]
  },
  {
   "cell_type": "markdown",
   "id": "e621932e",
   "metadata": {},
   "source": [
    "### Criando a coluna \"CDU\" com base na classificação da localização\n"
   ]
  },
  {
   "cell_type": "code",
   "execution_count": null,
   "id": "6a0624e1",
   "metadata": {},
   "outputs": [],
   "source": [
    "def classificar_CDU(valor):\n",
    "    if valor < 100:\n",
    "        return 'Generalidades, Ciência e Conhecimento'\n",
    "    elif valor < 200:\n",
    "        return 'Filosofia e Psicologia'\n",
    "    elif valor < 300:\n",
    "        return 'Religião'\n",
    "    elif valor < 400:\n",
    "        return 'Ciências sociais'\n",
    "    elif valor < 500:\n",
    "        return 'Classe vaga'\n",
    "    elif valor < 600:\n",
    "        return 'Matemática e Ciências Naturais'\n",
    "    elif valor < 700:\n",
    "        return 'Ciências aplicadas'\n",
    "    elif valor < 800:\n",
    "        return 'Belas Artes'\n",
    "    elif valor < 900:\n",
    "        return 'Linguagem'\n",
    "    else:\n",
    "        return 'Geografia, Biografia e História'\n",
    "\n",
    "todos_emprestimos['CDU'] = todos_emprestimos['localizacao'].apply(classificar_CDU)\n",
    "todos_emprestimos.head()\n"
   ]
  },
  {
   "cell_type": "markdown",
   "id": "1b381d8b",
   "metadata": {},
   "source": [
    "### Excluindo a coluna \"registro_sistema\" do DataFrame"
   ]
  },
  {
   "cell_type": "code",
   "execution_count": null,
   "id": "f57b5f4c",
   "metadata": {},
   "outputs": [],
   "source": [
    "todos_emprestimos.drop('registro_sistema', axis=1, inplace=True)\n",
    "todos_emprestimos.columns"
   ]
  },
  {
   "cell_type": "markdown",
   "id": "f6c590b8",
   "metadata": {},
   "source": [
    "### Transformando a coluna \"matricula_ou_siape\" para o tipo string"
   ]
  },
  {
   "cell_type": "code",
   "execution_count": null,
   "id": "c45917b2",
   "metadata": {},
   "outputs": [],
   "source": [
    "todos_emprestimos['matricula_ou_siape'] = todos_emprestimos['matricula_ou_siape'].astype(str)\n",
    "todos_emprestimos['matricula_ou_siape'].dtypes"
   ]
  },
  {
   "cell_type": "markdown",
   "id": "b5676539",
   "metadata": {},
   "source": [
    "### Relação entre empréstimo e empréstimo de exemplar"
   ]
  },
  {
   "cell_type": "code",
   "execution_count": null,
   "id": "59bc09d2",
   "metadata": {},
   "outputs": [],
   "source": [
    "todos_emprestimos['id_emprestimo'].value_counts()"
   ]
  },
  {
   "cell_type": "markdown",
   "id": "6daccf86",
   "metadata": {},
   "source": [
    "### Total de empréstimos e empréstimo de exemplares"
   ]
  },
  {
   "cell_type": "code",
   "execution_count": null,
   "id": "d6fa7935",
   "metadata": {},
   "outputs": [],
   "source": [
    "qtd_emprestimos = todos_emprestimos['id_emprestimo'].nunique()\n",
    "print(f\"Quantidade total de empréstimos: {qtd_emprestimos}\")\n",
    "qtd_exemplares = len(todos_emprestimos)\n",
    "print(f\"Quantidade total de exemplares: {qtd_exemplares}\")"
   ]
  },
  {
   "cell_type": "markdown",
   "id": "86e42de0",
   "metadata": {},
   "source": [
    "### Total de exemplares emprestados por ano"
   ]
  },
  {
   "cell_type": "code",
   "execution_count": null,
   "id": "da09015d",
   "metadata": {},
   "outputs": [],
   "source": [
    "data_emprestimos = pd.DataFrame(todos_emprestimos['data_emprestimo'].value_counts()).reset_index()\n",
    "data_emprestimos.columns = ['data','quantidade']\n",
    "data_emprestimos['data'] = pd.to_datetime(data_emprestimos['data'])\n",
    "data_emprestimos"
   ]
  },
  {
   "cell_type": "markdown",
   "id": "bd88c30a",
   "metadata": {},
   "source": [
    "### Funções para agrupar por período e plotar o gráfico"
   ]
  },
  {
   "cell_type": "code",
   "execution_count": null,
   "id": "7611fd6a",
   "metadata": {},
   "outputs": [],
   "source": [
    "def agrupar_por_periodo(df, coluna_data, coluna_valor, periodo):\n",
    "    \"\"\"\n",
    "    Agrupa os dados por um período específico (mês, ano ou hora) e retorna a soma dos valores.\n",
    "    :param df: DataFrame com os dados.\n",
    "    :param coluna_data: Nome da coluna com as datas.\n",
    "    :param coluna_valor: Nome da coluna com os valores a serem somados.\n",
    "    :param periodo: Período para agrupar ('month', 'year' ou 'hour').\n",
    "    :return: DataFrame agrupado com a soma dos valores.\n",
    "    \"\"\"\n",
    "\n",
    "    if not pd.api.types.is_datetime64_any_dtype(df[coluna_data]):\n",
    "        df = df.copy()\n",
    "        df[coluna_data] = pd.to_datetime(df[coluna_data])\n",
    "    \n",
    "    if periodo == 'month':\n",
    "        resultado = df.groupby(df[coluna_data].dt.month)[coluna_valor].sum()\n",
    "        meses = {1:'Jan', 2:'Fev', 3:'Mar', 4:'Abr', 5:'Mai', 6:'Jun', \n",
    "                7:'Jul', 8:'Ago', 9:'Set', 10:'Out', 11:'Nov', 12:'Dez'}\n",
    "        resultado.index = resultado.index.map(meses)\n",
    "        resultado.index.name = 'mês'\n",
    "    elif periodo == 'year':\n",
    "        resultado = df.groupby(df[coluna_data].dt.year)[coluna_valor].sum()\n",
    "        resultado.index.name = 'anos'\n",
    "    elif periodo == 'hour':\n",
    "        resultado = df.groupby(df[coluna_data].dt.hour)[coluna_valor].sum()\n",
    "        resultado.index = [f\"{h:02d}h\" for h in resultado.index]\n",
    "        resultado.index.name = 'hora'\n",
    "    \n",
    "    return resultado\n",
    "\n",
    "\n",
    "def plotar_grafico(dados, titulo, tipo='line'):\n",
    "    \"\"\"\n",
    "    Plota um gráfico com os dados fornecidos.\n",
    "    :param dados: Dados a serem plotados (DataFrame ou Series).\n",
    "    :param titulo: Título do gráfico.\n",
    "    :param tipo: Tipo de gráfico ('line' ou 'bar').\n",
    "    :return: Objeto do gráfico.\n",
    "    \"\"\"\n",
    "    sns.set_theme(style=\"darkgrid\")\n",
    "    fig, ax = plt.subplots(figsize=(12, 6))\n",
    "    \n",
    "    if tipo == 'line':\n",
    "        sns.lineplot(x=dados.index, y=dados.values, marker='o', linewidth=2, color='#1f77b4', ax=ax)          \n",
    "    else:\n",
    "        sns.barplot(x=dados.index, y=dados.values, hue=dados.index, palette='colorblind', ax=ax, legend=False)\n",
    "\n",
    "    \n",
    "    if dados.index.name == 'anos':\n",
    "        ax.set_xticks(dados.index)\n",
    "        ax.set_xlabel('')\n",
    "        ax.set_ylabel('')\n",
    "        ax.set_title(titulo, fontsize=14, fontweight='bold')\n",
    "        \n",
    "    elif dados.index.name == 'mês':\n",
    "        ax.set_xticks(range(len(dados.index)))\n",
    "        ax.set_xticklabels(dados.index, rotation=45, ha='right')\n",
    "        ax.set_title(titulo, fontsize=14, fontweight='bold')\n",
    "\n",
    "    else:\n",
    "        ax.set_xticks(range(len(dados.index)))\n",
    "        ax.set_title(titulo, fontsize=16, fontweight='bold')\n",
    "        ax.set_xlabel('')\n",
    "        ax.set_ylabel('')\n",
    "\n",
    "    plt.tight_layout()\n",
    "    return fig, ax        \n"
   ]
  },
  {
   "cell_type": "code",
   "execution_count": null,
   "id": "47223722",
   "metadata": {},
   "outputs": [],
   "source": [
    "agrupar_por_periodo(todos_emprestimos, 'data_emprestimo', 'id_emprestimo', 'month').head(10)"
   ]
  },
  {
   "cell_type": "markdown",
   "id": "a21b3ed0",
   "metadata": {},
   "source": [
    "### Análise por ano"
   ]
  },
  {
   "cell_type": "code",
   "execution_count": null,
   "id": "98f1a91e",
   "metadata": {},
   "outputs": [],
   "source": [
    "emprestimo_ano = agrupar_por_periodo(data_emprestimos, 'data', 'quantidade', 'year')\n",
    "fig_ano, ax_ano = plotar_grafico(emprestimo_ano, 'Empréstimos por Ano', tipo='line')\n"
   ]
  },
  {
   "cell_type": "markdown",
   "id": "d3cc5a06",
   "metadata": {},
   "source": [
    "A análise mostra que desde 2013 o número de exemplares emprestados vem diminuindo de forma contínua, com uma queda significativa já em 2019. O gráfico mostra que, após o pico de mais de 230 mil empréstimos em 2013, houve uma leve redução em 2014, certa estabilidade até 2017, e então uma queda mais acentuada em 2018 e 2019. Já o ano de 2020 apresentou uma quantidade de empréstimos muito inferior aos anos anteriores, mas não pode ser avaliado da mesma forma devido à diferença no volume de dados disponíveis para esse período.\n",
    "\n",
    "É importante que a direção da biblioteca investigue com mais profundidade o que está ocorrendo desde 2013, revisando os procedimentos e buscando entender os fatores que contribuíram para essa redução. Algumas perguntas importantes que podem orientar análises futuras:\n",
    "\n",
    "* O número de alunos da universidade vem diminuindo?\n",
    "\n",
    "* A biblioteca está aplicando alguma pesquisa de satisfação com os usuários? Como estão os resultados?\n",
    "\n",
    "* O acervo está atualizado e atrativo para os estudantes e pesquisadores?\n",
    "\n",
    "* Quais estratégias de divulgação e marketing estão sendo realizadas para incentivar o uso da biblioteca?\n",
    "\n",
    "* O que ocorreu de diferente em 2017 em comparação com 2015 e 2016, que pode ter contribuído para uma leve recuperação nos números?\n",
    "\n",
    "*E em 2019? Houve alguma mudança estrutural, de política ou de atendimento?"
   ]
  },
  {
   "cell_type": "markdown",
   "id": "18b734f3",
   "metadata": {},
   "source": [
    "### Análise por mês"
   ]
  },
  {
   "cell_type": "code",
   "execution_count": null,
   "id": "0468a7c9",
   "metadata": {},
   "outputs": [],
   "source": [
    "emprestimo_mes = agrupar_por_periodo(data_emprestimos , 'data', 'quantidade', 'month')\n",
    "fig_mes, ax_mes = plotar_grafico(emprestimo_mes, 'Empréstimos por Mês', tipo='line')"
   ]
  },
  {
   "cell_type": "markdown",
   "id": "119c9595",
   "metadata": {},
   "source": [
    "Nota-se que os maiores volumes de empréstimos acontecem nos meses de março e agosto, o que faz bastante sentido considerando que são meses de início de semestre nas universidades.\n",
    "\n",
    "Já os meses de janeiro, julho e dezembro apresentam os menores números, o que provavelmente está relacionado às férias acadêmicas. Isso não surpreende, mas é importante considerar que mesmo nesses períodos o funcionamento da biblioteca precisa ser garantido. Por isso, é essencial pensar no revezamento das equipes, evitando que todos tirem férias ao mesmo tempo, especialmente em janeiro, quando podem ser feitas atividades como inventário do acervo ou manutenção geral.\n",
    "\n",
    "Os meses de maio, junho, outubro e novembro, que têm movimentação intermediária, podem ser bem aproveitados pela gestão para treinamentos, eventos internos ou pequenas reformas, sem impactar tanto o fluxo de usuários.\n",
    "\n",
    "Chama atenção a queda expressiva em junho, o que merece uma investigação mais aprofundada. Pode haver algum fator pontual interferindo, como greves, calendário acadêmico alterado ou mesmo eventos que diminuem o interesse pelo uso da biblioteca nesse período.\n",
    "\n",
    "Uma boa sugestão seria planejar ações específicas de incentivo ao uso da biblioteca antes das férias, como campanhas para empréstimo de livros para leitura em casa, desafios de leitura ou até divulgação especial nas redes sociais.\n",
    "\n",
    "Essas ações podem ajudar a equilibrar o fluxo ao longo do ano e manter a biblioteca sempre presente na rotina dos estudantes."
   ]
  },
  {
   "cell_type": "markdown",
   "id": "adda0135",
   "metadata": {},
   "source": [
    "### Análise por hora"
   ]
  },
  {
   "cell_type": "code",
   "execution_count": null,
   "id": "3f5485e8",
   "metadata": {},
   "outputs": [],
   "source": [
    "emprestimo_hora = agrupar_por_periodo(data_emprestimos, 'data', 'quantidade', 'hour')\n",
    "fig_hora, ax_hora = plotar_grafico(emprestimo_hora, 'Empréstimos por Hora', tipo='bar')"
   ]
  },
  {
   "cell_type": "markdown",
   "id": "020ff85f",
   "metadata": {},
   "source": [
    "Baseado no gráfico, vejo que há um pico significativo no atendimento de empréstimos durante as 10 h e 16 h, que são os horários de maior demanda. Isso indica que esses períodos podem exigir mais pessoal ou recursos para lidar com a demanda intensa. Além disso, pode ser interessante focar na melhoria do processo de atendimento nesses horários de pico para otimizar a eficiência.\n",
    "\n",
    "Por outro lado, os períodos mais tranquilos, entre 7h e 9h da manhã e 19h a 22h, são ideais para realizar atividades que não dependem tanto da interação direta com os clientes, como atualização de registros, organização dos empréstimos ou planejamento das próximas etapas. Aproveitar esses horários de menor movimento pode ajudar a manter o fluxo de trabalho equilibrado ao longo do dia e garantir que as operações se mantenham eficientes."
   ]
  },
  {
   "cell_type": "markdown",
   "id": "20454e8f",
   "metadata": {},
   "source": [
    "### Analisando variáveis categóricas"
   ]
  },
  {
   "cell_type": "markdown",
   "id": "83747050",
   "metadata": {},
   "source": [
    "Agora vamos analisar as variáveis categóricas do conjunto de dados de empréstimos da biblioteca. A ideia é entender melhor o comportamento dos usuários a partir de categorias como tipo de vínculo, coleção, biblioteca e classificação geral da CDU.\n",
    "\n",
    "Criei uma função para gerar tabelas de frequência e percentual dessas variáveis, facilitando a visualização dos dados e a comparação entre elas. Com base nos resultados, surgem insights importantes para a diretoria: como se distribuem os empréstimos entre os tipos de vínculo, quais coleções são mais procuradas, quais bibliotecas têm mais movimentação e quais temas da CDU são mais emprestados.\n",
    "\n",
    "Essas análises ajudam a direcionar ações, avaliar estratégias atuais e identificar oportunidades de melhoria na gestão do acervo e no atendimento ao público."
   ]
  },
  {
   "cell_type": "markdown",
   "id": "f225e3fc",
   "metadata": {},
   "source": [
    "### Verificando os valores unicos "
   ]
  },
  {
   "cell_type": "code",
   "execution_count": null,
   "id": "285e2992",
   "metadata": {},
   "outputs": [],
   "source": [
    "todos_emprestimos.head()"
   ]
  },
  {
   "cell_type": "code",
   "execution_count": null,
   "id": "74fb28e4",
   "metadata": {},
   "outputs": [],
   "source": [
    "# Valores únicos para tipo de vínculo do usuário\n",
    "print(\"TIPO_VINCULO_USUARIO\")\n",
    "print(todos_emprestimos.tipo_vinculo_usuario.unique())\n",
    "print(\"Total:\", len(todos_emprestimos.tipo_vinculo_usuario.unique()))\n",
    "\n",
    "# Valores únicos para coleção\n",
    "print(\"\\nCOLECAO\")\n",
    "print(todos_emprestimos.colecao.unique())\n",
    "print(\"Total:\", len(todos_emprestimos.colecao.unique()))\n",
    "\n",
    "# Valores únicos para biblioteca\n",
    "print(\"\\nBIBLIOTECA\")\n",
    "print(todos_emprestimos.biblioteca.unique())\n",
    "print(\"Total:\", len(todos_emprestimos.biblioteca.unique()))\n",
    "\n",
    "# Valores únicos para CDU\n",
    "print(\"\\nCDU\")\n",
    "print(todos_emprestimos.CDU.unique())\n",
    "print(\"Total:\", len(todos_emprestimos.CDU.unique()))"
   ]
  },
  {
   "cell_type": "markdown",
   "id": "4eee901c",
   "metadata": {},
   "source": [
    "### Função para gerar tabela de contagem de frequência"
   ]
  },
  {
   "cell_type": "code",
   "execution_count": null,
   "id": "3b6ba6e8",
   "metadata": {},
   "outputs": [],
   "source": [
    "def tabela_frequencia(df, variavel):\n",
    "  '''\n",
    "  Esta função gera uma tabela de frequência com percentuais de acordo \n",
    "  com a variável categórica passada.\n",
    "  :param df: DataFrame com os dados.\n",
    "  :param variavel: Nome da variável categórica a ser analisada.\n",
    "  :return: DataFrame com a tabela de frequência e percentuais.\n",
    "  \n",
    "  '''\n",
    "\n",
    "\n",
    "  dataframe = pd.DataFrame(df[variavel].value_counts())                      \n",
    "  dataframe.columns = ['quantidade']\n",
    "  dataframe['percentual'] = round((dataframe.quantidade / dataframe.quantidade.sum())*100, 1)\n",
    "\n",
    "  return dataframe"
   ]
  },
  {
   "cell_type": "markdown",
   "id": "ae80475e",
   "metadata": {},
   "source": [
    "### Frequência por tipo de vinculo do usuário"
   ]
  },
  {
   "cell_type": "code",
   "execution_count": null,
   "id": "7b54bb65",
   "metadata": {},
   "outputs": [],
   "source": [
    "tabela_frequencia(todos_emprestimos, 'tipo_vinculo_usuario')"
   ]
  },
  {
   "cell_type": "markdown",
   "id": "bb670480",
   "metadata": {},
   "source": [
    "Com base na distribuição dos empréstimos por tipo de vínculo, podemos perceber que o aluno de graduação é, de longe, o principal usuário da biblioteca, representando 77,8% do total de empréstimos. Isso mostra que a biblioteca está muito conectada com a rotina dos cursos de graduação, o que é positivo, mas também indica onde está a maior demanda e, portanto, onde o serviço precisa ser mais robusto. \n",
    "Os alunos de pós-graduação aparecem em segundo lugar com 14,6%, o que reforça a importância de manter acervos atualizados e especializados para esse público."
   ]
  },
  {
   "cell_type": "markdown",
   "id": "babf5489",
   "metadata": {},
   "source": [
    "### Frequência por coleção"
   ]
  },
  {
   "cell_type": "code",
   "execution_count": null,
   "id": "797ee182",
   "metadata": {},
   "outputs": [],
   "source": [
    "tabela_frequencia(todos_emprestimos, 'colecao')"
   ]
  },
  {
   "cell_type": "markdown",
   "id": "15acd1d3",
   "metadata": {},
   "source": [
    "Ao analisar a distribuição dos empréstimos por tipo de coleção, fica evidente que o Acervo Circulante domina amplamente, representando 99,1% de todos os empréstimos. Isso mostra que ele é o principal recurso utilizado pelos usuários, o que levanta um alerta sobre o baixo uso das demais coleções.\n",
    "\n",
    "Coleções relevantes para a pesquisa acadêmica, como monografias (0,2%), dissertações (0,1%) e teses (0,0%), têm participação mínima nos empréstimos. Isso pode indicar um potencial pouco explorado para o fortalecimento da cultura científica e investigativa na universidade. No entanto, é importante verificar se esses materiais estão disponíveis online, o que justificaria o baixo número de empréstimos físicos.\n",
    "\n",
    "Além disso, coleções especiais como a Coleção Mossoroense, Coleção Zila Mamede, Literatura de Cordel e Obras Raras apresentam números extremamente baixos de empréstimos. Essas coleções, por seu valor histórico, cultural ou regional, merecem atenção especial. É preciso entender se a baixa procura se deve à falta de divulgação, restrições de acesso ou desconhecimento do acervo."
   ]
  },
  {
   "cell_type": "markdown",
   "id": "dc7a9d8b",
   "metadata": {},
   "source": [
    "### Frequência por blibliotecas"
   ]
  },
  {
   "cell_type": "code",
   "execution_count": null,
   "id": "03bd6bc8",
   "metadata": {},
   "outputs": [],
   "source": [
    "tabela_frequencia(todos_emprestimos, 'biblioteca')"
   ]
  },
  {
   "cell_type": "markdown",
   "id": "9e3f4ff7",
   "metadata": {},
   "source": [
    "Como já era esperado, a Biblioteca Central Zila Mamede se destaca com folga, representando quase 69% de todos os empréstimos do sistema. Isso reflete seu porte, localização e acervo mais diversificado, sendo o principal ponto de apoio da comunidade acadêmica.\n",
    "\n",
    "Apesar disso, é interessante ver que outras bibliotecas setoriais também têm participação significativa, como a do CCS, FACISA (Santa Cruz) e o Departamento de Odontologia, o que mostra que essas unidades têm papel relevante dentro dos seus contextos específicos.\n",
    "\n",
    "Esse ranking é útil para visualizar o panorama geral do sistema de bibliotecas, mas só os números absolutos não contam toda a história. Para uma análise mais justa e completa, o ideal seria cruzar com outras métricas, como:\n",
    "\n",
    "- Quantos empréstimos por usuário cadastrado cada biblioteca realiza\n",
    "\n",
    "- Qual seria o volume esperado de empréstimos, considerando o público atendido\n",
    "\n",
    "- Quais ações e investimentos têm sido feitos em cada unidade\n",
    "\n",
    "Essas comparações ajudam a entender melhor onde o sistema está funcionando bem, onde há espaço para melhorias e como distribuir melhor os recursos e estratégias de incentivo ao uso das bibliotecas."
   ]
  },
  {
   "cell_type": "markdown",
   "id": "0ea94378",
   "metadata": {},
   "source": [
    "### Frequência pela CDU"
   ]
  },
  {
   "cell_type": "code",
   "execution_count": null,
   "id": "4dce576b",
   "metadata": {},
   "outputs": [],
   "source": [
    "tabela_frequencia(todos_emprestimos, 'CDU')"
   ]
  },
  {
   "cell_type": "markdown",
   "id": "48d7c2e5",
   "metadata": {},
   "source": [
    "De maneira geral, dá pra ver uma diferença bem grande entre os temas. A categoria Ciências Aplicadas domina com quase 69% dos empréstimos, o que mostra que o acervo e o interesse dos usuários estão muito voltados para áreas mais práticas e aplicadas, como saúde, engenharia e tecnologia. Em seguida, Ciências Sociais também tem um bom volume, com 17,8%, o que é esperado, já que muitas graduações e pesquisas orbitam essas áreas.\n",
    "\n",
    "Por outro lado, temas como Geografia/Biografia/História, Belas Artes e Linguagem aparecem com números bem baixos (menos de 0,5% cada), o que chama atenção e levanta algumas questões:\n",
    "\n",
    "- O acervo desses temas está atualizado ou está defasado?\n",
    "\n",
    "- Esses temas atendem às necessidades do público atual da biblioteca?\n",
    "\n",
    "- Está sendo feita alguma ação de divulgação ou incentivo para o uso desses materiais?\n",
    "\n",
    "Pode ser que esses conteúdos estejam esquecidos, mal localizados ou pouco promovidos. Vale a pena a direção avaliar se é uma questão de falta de interesse do público ou de visibilidade do acervo. Uma ideia seria fazer campanhas temáticas ou destacar obras dessas áreas em períodos estratégicos, como durante eventos acadêmicos ou datas comemorativas. Também pode ser útil conversar com professores dessas áreas para entender se os alunos realmente têm procurado esse tipo de material ou se estão usando outras fontes."
   ]
  },
  {
   "cell_type": "markdown",
   "id": "ce295a17",
   "metadata": {},
   "source": [
    "### Análise Temporal dos Empréstimos com Boxplot"
   ]
  },
  {
   "cell_type": "markdown",
   "id": "ea7dfbf3",
   "metadata": {},
   "source": [
    "Agora vamos analisar a distribuição dos empréstimos ao longo do tempo com boxplots. A proposta é entender como o comportamento dos usuários da biblioteca como os alunos de graduação e pós-graduação varia de ano para ano, entre 2010 e 2020.\n",
    "\n",
    "Para isso, selecionei a coleção com maior volume de empréstimos e criei uma função para gerar boxplots anuais, separados por tipo de usuário. Essa visualização permite identificar padrões, variações e possíveis outliers que ajudam a contar a história dos dados de forma clara.\n",
    "\n",
    "Com essa análise, é possível levantar pontos importantes para a diretoria da biblioteca: há anos com maior ou menor volume de empréstimos? Algum comportamento atípico? A distribuição se manteve estável? Além disso, comparar graduação e pós-graduação traz uma visão mais detalhada sobre o perfil e as necessidades de cada grupo.\n",
    "\n",
    "Esses insights contribuem diretamente para a avaliação e ajuste de estratégias de acervo e atendimento, considerando o histórico e as transformações ao longo dos anos.\n"
   ]
  },
  {
   "cell_type": "code",
   "execution_count": null,
   "id": "e8031534",
   "metadata": {},
   "outputs": [],
   "source": [
    "alunos_graduacao = todos_emprestimos.query('tipo_vinculo_usuario == \"ALUNO DE GRADUAÇÃO\"')\n",
    "alunos_graduacao.colecao.value_counts()"
   ]
  },
  {
   "cell_type": "markdown",
   "id": "fbb00a1b",
   "metadata": {},
   "source": [
    "### Frequência Mensal e por Ano de Empréstimos do Acervo Circulante por Alunos de Graduação"
   ]
  },
  {
   "cell_type": "code",
   "execution_count": null,
   "id": "c119751f",
   "metadata": {},
   "outputs": [],
   "source": [
    "alunos_graduacao_acervo_circulante = alunos_graduacao.query('colecao == \"Acervo Circulante\"').copy()\n",
    "\n",
    "alunos_graduacao_acervo_circulante['data_emprestimo'] = pd.to_datetime(alunos_graduacao_acervo_circulante['data_emprestimo'])\n",
    "alunos_graduacao_acervo_circulante['ano'] = alunos_graduacao_acervo_circulante['data_emprestimo'].dt.year\n",
    "alunos_graduacao_acervo_circulante['mes'] = alunos_graduacao_acervo_circulante['data_emprestimo'].dt.month\n",
    "\n",
    "resultado = (alunos_graduacao_acervo_circulante\n",
    "             .groupby(['ano', 'mes'])\n",
    "             .size()\n",
    "             .reset_index(name='quantidade')\n",
    "            .sort_values('quantidade', ascending=False))\n",
    "\n",
    "resultado"
   ]
  },
  {
   "cell_type": "code",
   "execution_count": null,
   "id": "c60915f0",
   "metadata": {},
   "outputs": [],
   "source": [
    "todos_emprestimos['data_emprestimo'] = pd.to_datetime(todos_emprestimos['data_emprestimo'])"
   ]
  },
  {
   "cell_type": "markdown",
   "id": "d3ffca83",
   "metadata": {},
   "source": [
    "### Função para gerar os boxplot"
   ]
  },
  {
   "cell_type": "code",
   "execution_count": null,
   "id": "acefb35e",
   "metadata": {},
   "outputs": [],
   "source": [
    "def box_plot(dataset, x, y, titulo, subtitulo):\n",
    "    '''\n",
    "    Esta função gera um gráfico de boxplot com título e subtítulo customizados.\n",
    "    \n",
    "    :param dataset: DataFrame com os dados.\n",
    "    :param x: Nome da variável categórica para o eixo X.\n",
    "    :param y: Nome da variável numérica para o eixo Y.\n",
    "    :param titulo: Título principal do gráfico.\n",
    "    :param subtitulo: Subtítulo exibido abaixo do título.\n",
    "    :return: Exibe o gráfico gerado.\n",
    "    '''\n",
    "    \n",
    "    sns.set_theme(style=\"darkgrid\", palette='Blues', font_scale=1.3)\n",
    "    plt.figure(figsize=(16, 10))\n",
    "\n",
    "    ax = sns.boxplot(x=x, y=y, data=dataset, color='#4171EF')\n",
    "\n",
    "    ax.yaxis.set_major_formatter(ticker.FuncFormatter(lambda val, _: f'{int(val):,}'.replace(',', '.')))\n",
    "    plt.ylim(0, dataset[y].max() * 1.1)\n",
    "    ax.set(xlabel=None, ylabel=None)\n",
    "    ax.set_title(f\"{titulo}\\n\", fontsize=20, loc='left', weight='bold')\n",
    "    ax.text(x=-0.5, y=dataset[y].max() * 1.11, s=subtitulo, fontsize=18, ha='left', color='gray')\n",
    "\n",
    "    plt.tight_layout()\n",
    "    plt.show()"
   ]
  },
  {
   "cell_type": "code",
   "execution_count": null,
   "id": "a25e329b",
   "metadata": {},
   "outputs": [],
   "source": [
    "box_plot(resultado,'ano','quantidade','Distribuição dos empréstimos mensais', 'Realizados pelos alunos de graduação no acervo circulante')"
   ]
  },
  {
   "cell_type": "markdown",
   "id": "4de68607",
   "metadata": {},
   "source": [
    "Esse recorte representa bem o panorama geral do conjunto de dados, já que estamos lidando com os alunos de graduação que é o grupo com maior volume de empréstimos e a coleção mais movimentada: o acervo circulante.\n",
    "\n",
    "O boxplot nos ajuda a visualizar a distribuição mensal dos empréstimos ao longo dos anos. Fica evidente que houve uma queda a partir de 2013, com destaque para a forte baixa em 2019. Mas o que mais me chamou atenção foram os anos de 2014 e 2017.\n",
    "\n",
    "Mesmo com outliers (provavelmente causados pelos meses de janeiro e dezembro), esses dois anos mostram uma distribuição mais estável dentro do período. Em 2014, há um leve declínio comparado a 2013, enquanto em 2017 há uma recuperação visível em relação a 2016.\n",
    "\n",
    "Seria interessante entender com a direção das bibliotecas o que ocorreu nessas datas para que pudéssemos ter um contexto melhor da realidade do negócio."
   ]
  },
  {
   "cell_type": "markdown",
   "id": "d58fedc1",
   "metadata": {},
   "source": [
    "### Aluno de pós graduação"
   ]
  },
  {
   "cell_type": "code",
   "execution_count": null,
   "id": "2bf0ea60",
   "metadata": {},
   "outputs": [],
   "source": [
    "alunos_pos_graduacao = todos_emprestimos.query('tipo_vinculo_usuario == \"ALUNO DE PÓS-GRADUAÇÃO\"')\n",
    "alunos_pos_graduacao.colecao.value_counts()"
   ]
  },
  {
   "cell_type": "code",
   "execution_count": null,
   "id": "7a7aece1",
   "metadata": {},
   "outputs": [],
   "source": [
    "alunos_pos_graduacao_acervo_circulante = alunos_pos_graduacao.query('colecao == \"Acervo Circulante\"').copy()\n",
    "\n",
    "alunos_pos_graduacao_acervo_circulante['data_emprestimo'] = pd.to_datetime(alunos_pos_graduacao_acervo_circulante['data_emprestimo'])\n",
    "alunos_pos_graduacao_acervo_circulante['ano'] = alunos_pos_graduacao_acervo_circulante['data_emprestimo'].dt.year\n",
    "alunos_pos_graduacao_acervo_circulante['mes'] = alunos_pos_graduacao_acervo_circulante['data_emprestimo'].dt.month\n",
    "\n",
    "resultado = (alunos_pos_graduacao_acervo_circulante\n",
    "             .groupby(['ano', 'mes'])\n",
    "             .size()\n",
    "             .reset_index(name='quantidade')\n",
    "            .sort_values('quantidade', ascending=False))\n",
    "\n",
    "resultado"
   ]
  },
  {
   "cell_type": "code",
   "execution_count": null,
   "id": "0e09942e",
   "metadata": {},
   "outputs": [],
   "source": [
    "box_plot(resultado,'ano','quantidade','Distribuição dos empréstimos mensais', 'Realizados pelos alunos de pós graduação no acervo circulante')"
   ]
  },
  {
   "cell_type": "markdown",
   "id": "0df03bcb",
   "metadata": {},
   "source": [
    "No caso dos alunos de pós-graduação, o comportamento dos empréstimos foi um pouco diferente quando comparamos com o grupo de graduação.\n",
    "\n",
    "A partir de 2013, a linha mediana dos empréstimos mensais começou a cair de forma gradual até 2018, mas os valores máximos continuaram altos durante boa parte desse período, o que sugere certa estabilidade no volume total, mesmo com uma redução na consistência mensal. A queda mais acentuada só ocorreu de fato em 2019, o que indica uma possível mudança mais recente no comportamento dos usuários ou na oferta do serviço.\n",
    "\n",
    "Assim como no gráfico da graduação, observamos um crescimento constante entre 2010 e 2013. Esse padrão nos leva a refletir sobre quais estratégias, políticas ou investimentos estavam sendo feitos nesse período que poderiam ter incentivado o uso das bibliotecas.\n",
    "\n",
    "Nos dois casos, o ponto de atenção mais claro é o declínio acentuado a partir de 2018. Isso acende um alerta para que a direção das bibliotecas possa investigar o que mudou."
   ]
  },
  {
   "cell_type": "markdown",
   "id": "4d03ff1b",
   "metadata": {},
   "source": []
  },
  {
   "cell_type": "markdown",
   "id": "7ef4fddc",
   "metadata": {},
   "source": []
  },
  {
   "cell_type": "markdown",
   "id": "53487d10",
   "metadata": {},
   "source": [
    " Agora vamos analisar os empréstimos por curso de graduação, com foco nos dados entre 2015 e 2020. A proposta é atender a uma demanda comum nas universidades, que precisam fornecer indicadores que apoiem processos de avaliação externa, como os realizados pelo MEC. Os cursos selecionados são Biblioteconomia, Ciências sociais, Comunicação social, Direito, Filosofia e Pedagogia.\n",
    "\n",
    "O objetivo é entender como se comporta o uso da biblioteca por parte dos cursos que serão avaliados, verificando o volume de empréstimos realizados ao longo dos anos. Para isso, foi necessário integrar dados de diferentes fontes, como planilhas em Excel e arquivos JSON da API do sistema, consolidando tudo em um único conjunto.\n",
    "\n",
    "A partir dessa base unificada, criei uma tabela dinâmica que apresenta o total de empréstimos por curso e por ano, além de somatórios gerais por linha e por coluna. Isso permite visualizar com clareza quais cursos têm maior ou menor frequência de uso do acervo, como esse comportamento evoluiu no tempo e quais períodos tiveram mais movimentação.\n",
    "\n",
    "Essas informações são fundamentais para a gestão da biblioteca, pois ajudam a demonstrar o impacto do serviço nos cursos de graduação e orientam decisões sobre políticas de aquisição, atendimento e suporte pedagógico."
   ]
  },
  {
   "cell_type": "markdown",
   "id": "090a1ea3",
   "metadata": {},
   "source": [
    "### Coletando dados de arquivos EXCEL"
   ]
  },
  {
   "cell_type": "code",
   "execution_count": null,
   "id": "8c7812d5",
   "metadata": {},
   "outputs": [],
   "source": [
    "cadastro_alunos_antes_2010 = pd.read_excel('https://github.com/FranciscoFoz/7_Days_of_Code_Alura-Python-Pandas/raw/main/Dia_6-Novos_dados_novas_analises/Datasets/matricula_alunos.xlsx',\n",
    "                                        sheet_name='Até 2010',skiprows=1)\n",
    "cadastro_alunos_apos_2010 = pd.read_excel('https://github.com/FranciscoFoz/7_Days_of_Code_Alura-Python-Pandas/raw/main/Dia_6-Novos_dados_novas_analises/Datasets/matricula_alunos.xlsx',\n",
    "                                        sheet_name='Após 2010',skiprows=1)"
   ]
  },
  {
   "cell_type": "code",
   "execution_count": null,
   "id": "b3e4242e",
   "metadata": {},
   "outputs": [],
   "source": [
    "cadastro_alunos_antes_2010"
   ]
  },
  {
   "cell_type": "code",
   "execution_count": null,
   "id": "09e45303",
   "metadata": {},
   "outputs": [],
   "source": [
    "cadastro_alunos_apos_2010"
   ]
  },
  {
   "cell_type": "markdown",
   "id": "7a2ddc35",
   "metadata": {},
   "source": [
    "### Alterando o nome das colunas para a o mesmo formato dos dados anterioreres"
   ]
  },
  {
   "cell_type": "code",
   "execution_count": null,
   "id": "2ceb9ffd",
   "metadata": {},
   "outputs": [],
   "source": [
    "cadastro_alunos_antes_2010.columns = ['matricula_ou_siape','tipo_vinculo_usuario','curso']\n",
    "cadastro_alunos_apos_2010.columns = ['matricula_ou_siape','tipo_vinculo_usuario','curso']"
   ]
  },
  {
   "cell_type": "markdown",
   "id": "e5e20477",
   "metadata": {},
   "source": [
    "### Concatenando os arquivos EXCEL"
   ]
  },
  {
   "cell_type": "code",
   "execution_count": null,
   "id": "36934057",
   "metadata": {},
   "outputs": [],
   "source": [
    "cadastro_alunos_excel = pd.concat([cadastro_alunos_antes_2010,cadastro_alunos_apos_2010],ignore_index=True)\n",
    "cadastro_alunos_excel"
   ]
  },
  {
   "cell_type": "code",
   "execution_count": null,
   "id": "4bc03989",
   "metadata": {},
   "outputs": [],
   "source": [
    "cadastro_alunos_excel.info()"
   ]
  },
  {
   "cell_type": "markdown",
   "id": "77b40ab0",
   "metadata": {},
   "source": [
    "### Modificando matricula_ou_siape para str"
   ]
  },
  {
   "cell_type": "code",
   "execution_count": null,
   "id": "4568f101",
   "metadata": {},
   "outputs": [],
   "source": [
    "cadastro_alunos_excel.matricula_ou_siape = cadastro_alunos_excel.matricula_ou_siape.astype(str)"
   ]
  },
  {
   "cell_type": "markdown",
   "id": "13527bdd",
   "metadata": {},
   "source": [
    "### Coletando dados em JSON"
   ]
  },
  {
   "cell_type": "code",
   "execution_count": null,
   "id": "92347a97",
   "metadata": {},
   "outputs": [],
   "source": [
    "cadastro_alunos_json = pd.read_json('https://github.com/FranciscoFoz/7_Days_of_Code_Alura-Python-Pandas/raw/main/Dia_6-Novos_dados_novas_analises/Datasets/cadastro_alunos.json')"
   ]
  },
  {
   "cell_type": "code",
   "execution_count": null,
   "id": "9eb3b85b",
   "metadata": {},
   "outputs": [],
   "source": [
    "cadastro_alunos_json"
   ]
  },
  {
   "cell_type": "code",
   "execution_count": null,
   "id": "b42707bf",
   "metadata": {},
   "outputs": [],
   "source": [
    "cadastro_alunos_graduacao_json = pd.read_json(StringIO(cadastro_alunos_json.registros[0]))"
   ]
  },
  {
   "cell_type": "code",
   "execution_count": null,
   "id": "f37bea4e",
   "metadata": {},
   "outputs": [],
   "source": [
    "cadastro_alunos_graduacao_json"
   ]
  },
  {
   "cell_type": "code",
   "execution_count": null,
   "id": "a2eb0f70",
   "metadata": {},
   "outputs": [],
   "source": [
    "cadastro_alunos_graduacao_json.info()"
   ]
  },
  {
   "cell_type": "markdown",
   "id": "a337ab3b",
   "metadata": {},
   "source": [
    "### Modificando a matricula_ou_siape para str"
   ]
  },
  {
   "cell_type": "code",
   "execution_count": null,
   "id": "7f610d72",
   "metadata": {},
   "outputs": [],
   "source": [
    "cadastro_alunos_graduacao_json.matricula_ou_siape = cadastro_alunos_graduacao_json.matricula_ou_siape.astype('float')\n",
    "cadastro_alunos_graduacao_json.matricula_ou_siape = cadastro_alunos_graduacao_json.matricula_ou_siape.astype(str)"
   ]
  },
  {
   "cell_type": "code",
   "execution_count": null,
   "id": "ef7adf95",
   "metadata": {},
   "outputs": [],
   "source": [
    "cadastro_alunos_graduacao_json.info()"
   ]
  },
  {
   "cell_type": "markdown",
   "id": "ab0a3e81",
   "metadata": {},
   "source": [
    "### Concatenando os arquivos "
   ]
  },
  {
   "cell_type": "code",
   "execution_count": null,
   "id": "6bccb850",
   "metadata": {},
   "outputs": [],
   "source": [
    "cadastro_alunos_graduacao = pd.concat([cadastro_alunos_excel,cadastro_alunos_graduacao_json],ignore_index=True)\n",
    "cadastro_alunos_graduacao"
   ]
  },
  {
   "cell_type": "markdown",
   "id": "b3aee97d",
   "metadata": {},
   "source": [
    "### Empréstimos  entre 2015 e 2020"
   ]
  },
  {
   "cell_type": "code",
   "execution_count": 143,
   "id": "4028f2df",
   "metadata": {},
   "outputs": [
    {
     "data": {
      "text/html": [
       "<div>\n",
       "<style scoped>\n",
       "    .dataframe tbody tr th:only-of-type {\n",
       "        vertical-align: middle;\n",
       "    }\n",
       "\n",
       "    .dataframe tbody tr th {\n",
       "        vertical-align: top;\n",
       "    }\n",
       "\n",
       "    .dataframe thead th {\n",
       "        text-align: right;\n",
       "    }\n",
       "</style>\n",
       "<table border=\"1\" class=\"dataframe\">\n",
       "  <thead>\n",
       "    <tr style=\"text-align: right;\">\n",
       "      <th></th>\n",
       "      <th>matricula_ou_siape</th>\n",
       "      <th>data_emprestimo</th>\n",
       "    </tr>\n",
       "  </thead>\n",
       "  <tbody>\n",
       "    <tr>\n",
       "      <th>0</th>\n",
       "      <td>2013021576.0</td>\n",
       "      <td>2015-01-02 09:16:49.566</td>\n",
       "    </tr>\n",
       "    <tr>\n",
       "      <th>1</th>\n",
       "      <td>2014026648.0</td>\n",
       "      <td>2015-01-02 09:44:42.808</td>\n",
       "    </tr>\n",
       "    <tr>\n",
       "      <th>2</th>\n",
       "      <td>2014026648.0</td>\n",
       "      <td>2015-01-02 09:44:43.127</td>\n",
       "    </tr>\n",
       "    <tr>\n",
       "      <th>3</th>\n",
       "      <td>2010049586.0</td>\n",
       "      <td>2015-01-02 10:11:09.837</td>\n",
       "    </tr>\n",
       "    <tr>\n",
       "      <th>4</th>\n",
       "      <td>2014021454.0</td>\n",
       "      <td>2015-01-02 10:19:38.087</td>\n",
       "    </tr>\n",
       "    <tr>\n",
       "      <th>...</th>\n",
       "      <td>...</td>\n",
       "      <td>...</td>\n",
       "    </tr>\n",
       "    <tr>\n",
       "      <th>788099</th>\n",
       "      <td>20190154579.0</td>\n",
       "      <td>2020-03-18 16:26:20.477</td>\n",
       "    </tr>\n",
       "    <tr>\n",
       "      <th>788100</th>\n",
       "      <td>20160129109.0</td>\n",
       "      <td>2020-03-18 16:41:28.500</td>\n",
       "    </tr>\n",
       "    <tr>\n",
       "      <th>788101</th>\n",
       "      <td>20160129109.0</td>\n",
       "      <td>2020-03-18 16:41:28.588</td>\n",
       "    </tr>\n",
       "    <tr>\n",
       "      <th>788102</th>\n",
       "      <td>20160129109.0</td>\n",
       "      <td>2020-03-18 16:41:28.662</td>\n",
       "    </tr>\n",
       "    <tr>\n",
       "      <th>788103</th>\n",
       "      <td>20160129109.0</td>\n",
       "      <td>2020-03-18 16:41:28.713</td>\n",
       "    </tr>\n",
       "  </tbody>\n",
       "</table>\n",
       "<p>788104 rows × 2 columns</p>\n",
       "</div>"
      ],
      "text/plain": [
       "       matricula_ou_siape         data_emprestimo\n",
       "0            2013021576.0 2015-01-02 09:16:49.566\n",
       "1            2014026648.0 2015-01-02 09:44:42.808\n",
       "2            2014026648.0 2015-01-02 09:44:43.127\n",
       "3            2010049586.0 2015-01-02 10:11:09.837\n",
       "4            2014021454.0 2015-01-02 10:19:38.087\n",
       "...                   ...                     ...\n",
       "788099      20190154579.0 2020-03-18 16:26:20.477\n",
       "788100      20160129109.0 2020-03-18 16:41:28.500\n",
       "788101      20160129109.0 2020-03-18 16:41:28.588\n",
       "788102      20160129109.0 2020-03-18 16:41:28.662\n",
       "788103      20160129109.0 2020-03-18 16:41:28.713\n",
       "\n",
       "[788104 rows x 2 columns]"
      ]
     },
     "execution_count": 143,
     "metadata": {},
     "output_type": "execute_result"
    }
   ],
   "source": [
    "matricula_data_emprestimo = todos_emprestimos.query(\"tipo_vinculo_usuario == 'ALUNO DE GRADUAÇÃO'\")\n",
    "matricula_data_emprestimo = matricula_data_emprestimo.loc[:,['matricula_ou_siape','data_emprestimo']]\n",
    "matricula_data_emprestimo = matricula_data_emprestimo.query('data_emprestimo >= 2015')\n",
    "matricula_data_emprestimo = matricula_data_emprestimo.reset_index(drop=True)\n",
    "matricula_data_emprestimo"
   ]
  },
  {
   "cell_type": "markdown",
   "id": "0d292271",
   "metadata": {},
   "source": [
    "### Verificando valores ausentes"
   ]
  },
  {
   "cell_type": "code",
   "execution_count": 144,
   "id": "503aa56b",
   "metadata": {},
   "outputs": [
    {
     "data": {
      "text/plain": [
       "matricula_ou_siape    0\n",
       "data_emprestimo       0\n",
       "dtype: int64"
      ]
     },
     "execution_count": 144,
     "metadata": {},
     "output_type": "execute_result"
    }
   ],
   "source": [
    "matricula_data_emprestimo.isnull().sum()"
   ]
  },
  {
   "cell_type": "code",
   "execution_count": 145,
   "id": "1fef7153",
   "metadata": {},
   "outputs": [
    {
     "name": "stdout",
     "output_type": "stream",
     "text": [
      "['MATEMÁTICA' 'CIÊNCIAS BIOLÓGICAS' 'LETRAS' 'ECOLOGIA'\n",
      " 'ENGENHARIA AMBIENTAL' 'DIREITO' 'BIBLIOTECONOMIA'\n",
      " 'CIÊNCIA DA COMPUTAÇÃO' 'SISTEMAS DE INFORMAÇÃO' 'CIÊNCIAS SOCIAIS'\n",
      " 'ADMINISTRAÇÃO' 'ANÁLISE E DESENVOLVIMENTO DE SISTEMAS' 'NUTRIÇÃO'\n",
      " 'COMUNICAÇÃO SOCIAL' 'GEOGRAFIA' 'ENGENHARIA DA COMPUTAÇÃO' 'TURISMO'\n",
      " 'HISTÓRIA' 'ENGENHARIA QUÍMICA' 'DANÇA' 'MÚSICA' 'FISIOTERAPIA'\n",
      " 'AGRONOMIA' 'FILOSOFIA' 'ENGENHARIA DE PETRÓLEO' 'PEDAGOGIA'\n",
      " 'CIÊNCIAS E TECNOLOGIA' 'CIÊNCIAS ATUARIAIS' 'ENGENHARIA FLORESTAL'\n",
      " 'ENFERMAGEM' 'ARQUITETURA E URBANISMO' 'EDUCAÇÃO FÍSICA' 'BIOMEDICINA'\n",
      " 'ENGENHARIA CIVIL']\n",
      "Total: 34\n"
     ]
    }
   ],
   "source": [
    "print(cadastro_alunos_graduacao['curso'].unique())\n",
    "print(\"Total:\", len(cadastro_alunos_graduacao['curso'].unique()))"
   ]
  },
  {
   "cell_type": "markdown",
   "id": "1aad41b2",
   "metadata": {},
   "source": [
    "### Filtrando os cursos que serão analisados"
   ]
  },
  {
   "cell_type": "code",
   "execution_count": 146,
   "id": "2c3dbccc",
   "metadata": {},
   "outputs": [
    {
     "data": {
      "text/html": [
       "<div>\n",
       "<style scoped>\n",
       "    .dataframe tbody tr th:only-of-type {\n",
       "        vertical-align: middle;\n",
       "    }\n",
       "\n",
       "    .dataframe tbody tr th {\n",
       "        vertical-align: top;\n",
       "    }\n",
       "\n",
       "    .dataframe thead th {\n",
       "        text-align: right;\n",
       "    }\n",
       "</style>\n",
       "<table border=\"1\" class=\"dataframe\">\n",
       "  <thead>\n",
       "    <tr style=\"text-align: right;\">\n",
       "      <th></th>\n",
       "      <th>matricula_ou_siape</th>\n",
       "      <th>tipo_vinculo_usuario</th>\n",
       "      <th>curso</th>\n",
       "    </tr>\n",
       "  </thead>\n",
       "  <tbody>\n",
       "    <tr>\n",
       "      <th>8</th>\n",
       "      <td>200031011.0</td>\n",
       "      <td>ALUNO DE GRADUAÇÃO</td>\n",
       "      <td>DIREITO</td>\n",
       "    </tr>\n",
       "    <tr>\n",
       "      <th>9</th>\n",
       "      <td>200045080.0</td>\n",
       "      <td>ALUNO DE GRADUAÇÃO</td>\n",
       "      <td>BIBLIOTECONOMIA</td>\n",
       "    </tr>\n",
       "    <tr>\n",
       "      <th>15</th>\n",
       "      <td>200115053.0</td>\n",
       "      <td>ALUNO DE GRADUAÇÃO</td>\n",
       "      <td>CIÊNCIAS SOCIAIS</td>\n",
       "    </tr>\n",
       "    <tr>\n",
       "      <th>18</th>\n",
       "      <td>200123382.0</td>\n",
       "      <td>ALUNO DE GRADUAÇÃO</td>\n",
       "      <td>BIBLIOTECONOMIA</td>\n",
       "    </tr>\n",
       "    <tr>\n",
       "      <th>19</th>\n",
       "      <td>200123730.0</td>\n",
       "      <td>ALUNO DE GRADUAÇÃO</td>\n",
       "      <td>BIBLIOTECONOMIA</td>\n",
       "    </tr>\n",
       "    <tr>\n",
       "      <th>...</th>\n",
       "      <td>...</td>\n",
       "      <td>...</td>\n",
       "      <td>...</td>\n",
       "    </tr>\n",
       "    <tr>\n",
       "      <th>72789</th>\n",
       "      <td>20200097481.0</td>\n",
       "      <td>ALUNO DE GRADUAÇÃO</td>\n",
       "      <td>PEDAGOGIA</td>\n",
       "    </tr>\n",
       "    <tr>\n",
       "      <th>72796</th>\n",
       "      <td>20200107087.0</td>\n",
       "      <td>ALUNO DE GRADUAÇÃO</td>\n",
       "      <td>PEDAGOGIA</td>\n",
       "    </tr>\n",
       "    <tr>\n",
       "      <th>72797</th>\n",
       "      <td>20200012706.0</td>\n",
       "      <td>ALUNO DE GRADUAÇÃO</td>\n",
       "      <td>BIBLIOTECONOMIA</td>\n",
       "    </tr>\n",
       "    <tr>\n",
       "      <th>72800</th>\n",
       "      <td>20200009344.0</td>\n",
       "      <td>ALUNO DE GRADUAÇÃO</td>\n",
       "      <td>BIBLIOTECONOMIA</td>\n",
       "    </tr>\n",
       "    <tr>\n",
       "      <th>72801</th>\n",
       "      <td>20200090284.0</td>\n",
       "      <td>ALUNO DE GRADUAÇÃO</td>\n",
       "      <td>DIREITO</td>\n",
       "    </tr>\n",
       "  </tbody>\n",
       "</table>\n",
       "<p>18833 rows × 3 columns</p>\n",
       "</div>"
      ],
      "text/plain": [
       "      matricula_ou_siape tipo_vinculo_usuario             curso\n",
       "8            200031011.0   ALUNO DE GRADUAÇÃO           DIREITO\n",
       "9            200045080.0   ALUNO DE GRADUAÇÃO   BIBLIOTECONOMIA\n",
       "15           200115053.0   ALUNO DE GRADUAÇÃO  CIÊNCIAS SOCIAIS\n",
       "18           200123382.0   ALUNO DE GRADUAÇÃO   BIBLIOTECONOMIA\n",
       "19           200123730.0   ALUNO DE GRADUAÇÃO   BIBLIOTECONOMIA\n",
       "...                  ...                  ...               ...\n",
       "72789      20200097481.0   ALUNO DE GRADUAÇÃO         PEDAGOGIA\n",
       "72796      20200107087.0   ALUNO DE GRADUAÇÃO         PEDAGOGIA\n",
       "72797      20200012706.0   ALUNO DE GRADUAÇÃO   BIBLIOTECONOMIA\n",
       "72800      20200009344.0   ALUNO DE GRADUAÇÃO   BIBLIOTECONOMIA\n",
       "72801      20200090284.0   ALUNO DE GRADUAÇÃO           DIREITO\n",
       "\n",
       "[18833 rows x 3 columns]"
      ]
     },
     "execution_count": 146,
     "metadata": {},
     "output_type": "execute_result"
    }
   ],
   "source": [
    "cursos_selecionados = cadastro_alunos_graduacao.query(\"curso == ['BIBLIOTECONOMIA','CIÊNCIAS SOCIAIS','COMUNICAÇÃO SOCIAL','DIREITO','FILOSOFIA','PEDAGOGIA']\")\n",
    "cursos_selecionados\n"
   ]
  },
  {
   "cell_type": "markdown",
   "id": "e03c4210",
   "metadata": {},
   "source": [
    "### Unindo os Dataframes de cursos selecionados com matricula data emprestimo"
   ]
  },
  {
   "cell_type": "code",
   "execution_count": 147,
   "id": "36ba58c9",
   "metadata": {},
   "outputs": [
    {
     "data": {
      "text/html": [
       "<div>\n",
       "<style scoped>\n",
       "    .dataframe tbody tr th:only-of-type {\n",
       "        vertical-align: middle;\n",
       "    }\n",
       "\n",
       "    .dataframe tbody tr th {\n",
       "        vertical-align: top;\n",
       "    }\n",
       "\n",
       "    .dataframe thead th {\n",
       "        text-align: right;\n",
       "    }\n",
       "</style>\n",
       "<table border=\"1\" class=\"dataframe\">\n",
       "  <thead>\n",
       "    <tr style=\"text-align: right;\">\n",
       "      <th></th>\n",
       "      <th>matricula_ou_siape</th>\n",
       "      <th>data_emprestimo</th>\n",
       "      <th>tipo_vinculo_usuario</th>\n",
       "      <th>curso</th>\n",
       "    </tr>\n",
       "  </thead>\n",
       "  <tbody>\n",
       "    <tr>\n",
       "      <th>0</th>\n",
       "      <td>2014021454.0</td>\n",
       "      <td>2015</td>\n",
       "      <td>ALUNO DE GRADUAÇÃO</td>\n",
       "      <td>FILOSOFIA</td>\n",
       "    </tr>\n",
       "    <tr>\n",
       "      <th>1</th>\n",
       "      <td>2013018187.0</td>\n",
       "      <td>2015</td>\n",
       "      <td>ALUNO DE GRADUAÇÃO</td>\n",
       "      <td>DIREITO</td>\n",
       "    </tr>\n",
       "    <tr>\n",
       "      <th>2</th>\n",
       "      <td>2014029499.0</td>\n",
       "      <td>2015</td>\n",
       "      <td>ALUNO DE GRADUAÇÃO</td>\n",
       "      <td>CIÊNCIAS SOCIAIS</td>\n",
       "    </tr>\n",
       "    <tr>\n",
       "      <th>3</th>\n",
       "      <td>2014029499.0</td>\n",
       "      <td>2015</td>\n",
       "      <td>ALUNO DE GRADUAÇÃO</td>\n",
       "      <td>CIÊNCIAS SOCIAIS</td>\n",
       "    </tr>\n",
       "    <tr>\n",
       "      <th>4</th>\n",
       "      <td>2014029499.0</td>\n",
       "      <td>2015</td>\n",
       "      <td>ALUNO DE GRADUAÇÃO</td>\n",
       "      <td>CIÊNCIAS SOCIAIS</td>\n",
       "    </tr>\n",
       "    <tr>\n",
       "      <th>...</th>\n",
       "      <td>...</td>\n",
       "      <td>...</td>\n",
       "      <td>...</td>\n",
       "      <td>...</td>\n",
       "    </tr>\n",
       "    <tr>\n",
       "      <th>212833</th>\n",
       "      <td>20200090284.0</td>\n",
       "      <td>2020</td>\n",
       "      <td>ALUNO DE GRADUAÇÃO</td>\n",
       "      <td>DIREITO</td>\n",
       "    </tr>\n",
       "    <tr>\n",
       "      <th>212834</th>\n",
       "      <td>20180113385.0</td>\n",
       "      <td>2020</td>\n",
       "      <td>ALUNO DE GRADUAÇÃO</td>\n",
       "      <td>CIÊNCIAS SOCIAIS</td>\n",
       "    </tr>\n",
       "    <tr>\n",
       "      <th>212835</th>\n",
       "      <td>20190150079.0</td>\n",
       "      <td>2020</td>\n",
       "      <td>ALUNO DE GRADUAÇÃO</td>\n",
       "      <td>PEDAGOGIA</td>\n",
       "    </tr>\n",
       "    <tr>\n",
       "      <th>212836</th>\n",
       "      <td>20190150079.0</td>\n",
       "      <td>2020</td>\n",
       "      <td>ALUNO DE GRADUAÇÃO</td>\n",
       "      <td>PEDAGOGIA</td>\n",
       "    </tr>\n",
       "    <tr>\n",
       "      <th>212837</th>\n",
       "      <td>20190150079.0</td>\n",
       "      <td>2020</td>\n",
       "      <td>ALUNO DE GRADUAÇÃO</td>\n",
       "      <td>PEDAGOGIA</td>\n",
       "    </tr>\n",
       "  </tbody>\n",
       "</table>\n",
       "<p>212838 rows × 4 columns</p>\n",
       "</div>"
      ],
      "text/plain": [
       "       matricula_ou_siape  data_emprestimo tipo_vinculo_usuario  \\\n",
       "0            2014021454.0             2015   ALUNO DE GRADUAÇÃO   \n",
       "1            2013018187.0             2015   ALUNO DE GRADUAÇÃO   \n",
       "2            2014029499.0             2015   ALUNO DE GRADUAÇÃO   \n",
       "3            2014029499.0             2015   ALUNO DE GRADUAÇÃO   \n",
       "4            2014029499.0             2015   ALUNO DE GRADUAÇÃO   \n",
       "...                   ...              ...                  ...   \n",
       "212833      20200090284.0             2020   ALUNO DE GRADUAÇÃO   \n",
       "212834      20180113385.0             2020   ALUNO DE GRADUAÇÃO   \n",
       "212835      20190150079.0             2020   ALUNO DE GRADUAÇÃO   \n",
       "212836      20190150079.0             2020   ALUNO DE GRADUAÇÃO   \n",
       "212837      20190150079.0             2020   ALUNO DE GRADUAÇÃO   \n",
       "\n",
       "                   curso  \n",
       "0              FILOSOFIA  \n",
       "1                DIREITO  \n",
       "2       CIÊNCIAS SOCIAIS  \n",
       "3       CIÊNCIAS SOCIAIS  \n",
       "4       CIÊNCIAS SOCIAIS  \n",
       "...                  ...  \n",
       "212833           DIREITO  \n",
       "212834  CIÊNCIAS SOCIAIS  \n",
       "212835         PEDAGOGIA  \n",
       "212836         PEDAGOGIA  \n",
       "212837         PEDAGOGIA  \n",
       "\n",
       "[212838 rows x 4 columns]"
      ]
     },
     "execution_count": 147,
     "metadata": {},
     "output_type": "execute_result"
    }
   ],
   "source": [
    "cursos_selecionados = matricula_data_emprestimo.merge(cursos_selecionados)\n",
    "cursos_selecionados['data_emprestimo'] = pd.to_datetime(cursos_selecionados['data_emprestimo'])\n",
    "cursos_selecionados['data_emprestimo'] = cursos_selecionados.data_emprestimo.dt.year\n",
    "cursos_selecionados"
   ]
  },
  {
   "cell_type": "code",
   "execution_count": 148,
   "id": "f420f4c9",
   "metadata": {},
   "outputs": [
    {
     "data": {
      "text/html": [
       "<div>\n",
       "<style scoped>\n",
       "    .dataframe tbody tr th:only-of-type {\n",
       "        vertical-align: middle;\n",
       "    }\n",
       "\n",
       "    .dataframe tbody tr th {\n",
       "        vertical-align: top;\n",
       "    }\n",
       "\n",
       "    .dataframe thead th {\n",
       "        text-align: right;\n",
       "    }\n",
       "</style>\n",
       "<table border=\"1\" class=\"dataframe\">\n",
       "  <thead>\n",
       "    <tr style=\"text-align: right;\">\n",
       "      <th></th>\n",
       "      <th>ANO</th>\n",
       "      <th>CURSO</th>\n",
       "      <th>QUANTIDADE_EMPRESTIMOS</th>\n",
       "    </tr>\n",
       "  </thead>\n",
       "  <tbody>\n",
       "    <tr>\n",
       "      <th>0</th>\n",
       "      <td>2017</td>\n",
       "      <td>COMUNICAÇÃO SOCIAL</td>\n",
       "      <td>8253</td>\n",
       "    </tr>\n",
       "    <tr>\n",
       "      <th>1</th>\n",
       "      <td>2016</td>\n",
       "      <td>COMUNICAÇÃO SOCIAL</td>\n",
       "      <td>7973</td>\n",
       "    </tr>\n",
       "    <tr>\n",
       "      <th>2</th>\n",
       "      <td>2017</td>\n",
       "      <td>DIREITO</td>\n",
       "      <td>7885</td>\n",
       "    </tr>\n",
       "    <tr>\n",
       "      <th>3</th>\n",
       "      <td>2015</td>\n",
       "      <td>BIBLIOTECONOMIA</td>\n",
       "      <td>7784</td>\n",
       "    </tr>\n",
       "    <tr>\n",
       "      <th>4</th>\n",
       "      <td>2015</td>\n",
       "      <td>DIREITO</td>\n",
       "      <td>7665</td>\n",
       "    </tr>\n",
       "    <tr>\n",
       "      <th>5</th>\n",
       "      <td>2016</td>\n",
       "      <td>FILOSOFIA</td>\n",
       "      <td>7576</td>\n",
       "    </tr>\n",
       "    <tr>\n",
       "      <th>6</th>\n",
       "      <td>2015</td>\n",
       "      <td>CIÊNCIAS SOCIAIS</td>\n",
       "      <td>7489</td>\n",
       "    </tr>\n",
       "    <tr>\n",
       "      <th>7</th>\n",
       "      <td>2017</td>\n",
       "      <td>PEDAGOGIA</td>\n",
       "      <td>7434</td>\n",
       "    </tr>\n",
       "    <tr>\n",
       "      <th>8</th>\n",
       "      <td>2017</td>\n",
       "      <td>FILOSOFIA</td>\n",
       "      <td>7389</td>\n",
       "    </tr>\n",
       "    <tr>\n",
       "      <th>9</th>\n",
       "      <td>2016</td>\n",
       "      <td>DIREITO</td>\n",
       "      <td>7363</td>\n",
       "    </tr>\n",
       "    <tr>\n",
       "      <th>10</th>\n",
       "      <td>2017</td>\n",
       "      <td>BIBLIOTECONOMIA</td>\n",
       "      <td>7307</td>\n",
       "    </tr>\n",
       "    <tr>\n",
       "      <th>11</th>\n",
       "      <td>2015</td>\n",
       "      <td>PEDAGOGIA</td>\n",
       "      <td>7189</td>\n",
       "    </tr>\n",
       "    <tr>\n",
       "      <th>12</th>\n",
       "      <td>2016</td>\n",
       "      <td>PEDAGOGIA</td>\n",
       "      <td>7153</td>\n",
       "    </tr>\n",
       "    <tr>\n",
       "      <th>13</th>\n",
       "      <td>2015</td>\n",
       "      <td>COMUNICAÇÃO SOCIAL</td>\n",
       "      <td>7147</td>\n",
       "    </tr>\n",
       "    <tr>\n",
       "      <th>14</th>\n",
       "      <td>2016</td>\n",
       "      <td>BIBLIOTECONOMIA</td>\n",
       "      <td>7044</td>\n",
       "    </tr>\n",
       "    <tr>\n",
       "      <th>15</th>\n",
       "      <td>2018</td>\n",
       "      <td>DIREITO</td>\n",
       "      <td>7027</td>\n",
       "    </tr>\n",
       "    <tr>\n",
       "      <th>16</th>\n",
       "      <td>2016</td>\n",
       "      <td>CIÊNCIAS SOCIAIS</td>\n",
       "      <td>6978</td>\n",
       "    </tr>\n",
       "    <tr>\n",
       "      <th>17</th>\n",
       "      <td>2018</td>\n",
       "      <td>COMUNICAÇÃO SOCIAL</td>\n",
       "      <td>6953</td>\n",
       "    </tr>\n",
       "    <tr>\n",
       "      <th>18</th>\n",
       "      <td>2015</td>\n",
       "      <td>FILOSOFIA</td>\n",
       "      <td>6950</td>\n",
       "    </tr>\n",
       "    <tr>\n",
       "      <th>19</th>\n",
       "      <td>2017</td>\n",
       "      <td>CIÊNCIAS SOCIAIS</td>\n",
       "      <td>6918</td>\n",
       "    </tr>\n",
       "    <tr>\n",
       "      <th>20</th>\n",
       "      <td>2018</td>\n",
       "      <td>PEDAGOGIA</td>\n",
       "      <td>6518</td>\n",
       "    </tr>\n",
       "    <tr>\n",
       "      <th>21</th>\n",
       "      <td>2018</td>\n",
       "      <td>BIBLIOTECONOMIA</td>\n",
       "      <td>6378</td>\n",
       "    </tr>\n",
       "    <tr>\n",
       "      <th>22</th>\n",
       "      <td>2018</td>\n",
       "      <td>FILOSOFIA</td>\n",
       "      <td>6296</td>\n",
       "    </tr>\n",
       "    <tr>\n",
       "      <th>23</th>\n",
       "      <td>2018</td>\n",
       "      <td>CIÊNCIAS SOCIAIS</td>\n",
       "      <td>6181</td>\n",
       "    </tr>\n",
       "    <tr>\n",
       "      <th>24</th>\n",
       "      <td>2019</td>\n",
       "      <td>BIBLIOTECONOMIA</td>\n",
       "      <td>5889</td>\n",
       "    </tr>\n",
       "    <tr>\n",
       "      <th>25</th>\n",
       "      <td>2019</td>\n",
       "      <td>COMUNICAÇÃO SOCIAL</td>\n",
       "      <td>5885</td>\n",
       "    </tr>\n",
       "    <tr>\n",
       "      <th>26</th>\n",
       "      <td>2019</td>\n",
       "      <td>PEDAGOGIA</td>\n",
       "      <td>5869</td>\n",
       "    </tr>\n",
       "    <tr>\n",
       "      <th>27</th>\n",
       "      <td>2019</td>\n",
       "      <td>DIREITO</td>\n",
       "      <td>5861</td>\n",
       "    </tr>\n",
       "    <tr>\n",
       "      <th>28</th>\n",
       "      <td>2019</td>\n",
       "      <td>CIÊNCIAS SOCIAIS</td>\n",
       "      <td>5788</td>\n",
       "    </tr>\n",
       "    <tr>\n",
       "      <th>29</th>\n",
       "      <td>2019</td>\n",
       "      <td>FILOSOFIA</td>\n",
       "      <td>5572</td>\n",
       "    </tr>\n",
       "    <tr>\n",
       "      <th>30</th>\n",
       "      <td>2020</td>\n",
       "      <td>DIREITO</td>\n",
       "      <td>905</td>\n",
       "    </tr>\n",
       "    <tr>\n",
       "      <th>31</th>\n",
       "      <td>2020</td>\n",
       "      <td>BIBLIOTECONOMIA</td>\n",
       "      <td>900</td>\n",
       "    </tr>\n",
       "    <tr>\n",
       "      <th>32</th>\n",
       "      <td>2020</td>\n",
       "      <td>PEDAGOGIA</td>\n",
       "      <td>866</td>\n",
       "    </tr>\n",
       "    <tr>\n",
       "      <th>33</th>\n",
       "      <td>2020</td>\n",
       "      <td>FILOSOFIA</td>\n",
       "      <td>832</td>\n",
       "    </tr>\n",
       "    <tr>\n",
       "      <th>34</th>\n",
       "      <td>2020</td>\n",
       "      <td>CIÊNCIAS SOCIAIS</td>\n",
       "      <td>825</td>\n",
       "    </tr>\n",
       "    <tr>\n",
       "      <th>35</th>\n",
       "      <td>2020</td>\n",
       "      <td>COMUNICAÇÃO SOCIAL</td>\n",
       "      <td>796</td>\n",
       "    </tr>\n",
       "  </tbody>\n",
       "</table>\n",
       "</div>"
      ],
      "text/plain": [
       "     ANO               CURSO  QUANTIDADE_EMPRESTIMOS\n",
       "0   2017  COMUNICAÇÃO SOCIAL                    8253\n",
       "1   2016  COMUNICAÇÃO SOCIAL                    7973\n",
       "2   2017             DIREITO                    7885\n",
       "3   2015     BIBLIOTECONOMIA                    7784\n",
       "4   2015             DIREITO                    7665\n",
       "5   2016           FILOSOFIA                    7576\n",
       "6   2015    CIÊNCIAS SOCIAIS                    7489\n",
       "7   2017           PEDAGOGIA                    7434\n",
       "8   2017           FILOSOFIA                    7389\n",
       "9   2016             DIREITO                    7363\n",
       "10  2017     BIBLIOTECONOMIA                    7307\n",
       "11  2015           PEDAGOGIA                    7189\n",
       "12  2016           PEDAGOGIA                    7153\n",
       "13  2015  COMUNICAÇÃO SOCIAL                    7147\n",
       "14  2016     BIBLIOTECONOMIA                    7044\n",
       "15  2018             DIREITO                    7027\n",
       "16  2016    CIÊNCIAS SOCIAIS                    6978\n",
       "17  2018  COMUNICAÇÃO SOCIAL                    6953\n",
       "18  2015           FILOSOFIA                    6950\n",
       "19  2017    CIÊNCIAS SOCIAIS                    6918\n",
       "20  2018           PEDAGOGIA                    6518\n",
       "21  2018     BIBLIOTECONOMIA                    6378\n",
       "22  2018           FILOSOFIA                    6296\n",
       "23  2018    CIÊNCIAS SOCIAIS                    6181\n",
       "24  2019     BIBLIOTECONOMIA                    5889\n",
       "25  2019  COMUNICAÇÃO SOCIAL                    5885\n",
       "26  2019           PEDAGOGIA                    5869\n",
       "27  2019             DIREITO                    5861\n",
       "28  2019    CIÊNCIAS SOCIAIS                    5788\n",
       "29  2019           FILOSOFIA                    5572\n",
       "30  2020             DIREITO                     905\n",
       "31  2020     BIBLIOTECONOMIA                     900\n",
       "32  2020           PEDAGOGIA                     866\n",
       "33  2020           FILOSOFIA                     832\n",
       "34  2020    CIÊNCIAS SOCIAIS                     825\n",
       "35  2020  COMUNICAÇÃO SOCIAL                     796"
      ]
     },
     "execution_count": 148,
     "metadata": {},
     "output_type": "execute_result"
    }
   ],
   "source": [
    "emprestimos_cursos_selecionados = cursos_selecionados.iloc[:,[1,3]].value_counts().reset_index()\n",
    "emprestimos_cursos_selecionados.columns = ['ANO','CURSO','QUANTIDADE_EMPRESTIMOS']\n",
    "emprestimos_cursos_selecionados"
   ]
  },
  {
   "cell_type": "code",
   "execution_count": 149,
   "id": "e0b9a5b7",
   "metadata": {},
   "outputs": [
    {
     "data": {
      "text/html": [
       "<div>\n",
       "<style scoped>\n",
       "    .dataframe tbody tr th:only-of-type {\n",
       "        vertical-align: middle;\n",
       "    }\n",
       "\n",
       "    .dataframe tbody tr th {\n",
       "        vertical-align: top;\n",
       "    }\n",
       "\n",
       "    .dataframe thead th {\n",
       "        text-align: right;\n",
       "    }\n",
       "</style>\n",
       "<table border=\"1\" class=\"dataframe\">\n",
       "  <thead>\n",
       "    <tr style=\"text-align: right;\">\n",
       "      <th>ANO</th>\n",
       "      <th>2015</th>\n",
       "      <th>2016</th>\n",
       "      <th>2017</th>\n",
       "      <th>2018</th>\n",
       "      <th>2019</th>\n",
       "      <th>2020</th>\n",
       "      <th>TOTAL</th>\n",
       "    </tr>\n",
       "    <tr>\n",
       "      <th>CURSO</th>\n",
       "      <th></th>\n",
       "      <th></th>\n",
       "      <th></th>\n",
       "      <th></th>\n",
       "      <th></th>\n",
       "      <th></th>\n",
       "      <th></th>\n",
       "    </tr>\n",
       "  </thead>\n",
       "  <tbody>\n",
       "    <tr>\n",
       "      <th>BIBLIOTECONOMIA</th>\n",
       "      <td>7784</td>\n",
       "      <td>7044</td>\n",
       "      <td>7307</td>\n",
       "      <td>6378</td>\n",
       "      <td>5889</td>\n",
       "      <td>900</td>\n",
       "      <td>35302</td>\n",
       "    </tr>\n",
       "    <tr>\n",
       "      <th>CIÊNCIAS SOCIAIS</th>\n",
       "      <td>7489</td>\n",
       "      <td>6978</td>\n",
       "      <td>6918</td>\n",
       "      <td>6181</td>\n",
       "      <td>5788</td>\n",
       "      <td>825</td>\n",
       "      <td>34179</td>\n",
       "    </tr>\n",
       "    <tr>\n",
       "      <th>COMUNICAÇÃO SOCIAL</th>\n",
       "      <td>7147</td>\n",
       "      <td>7973</td>\n",
       "      <td>8253</td>\n",
       "      <td>6953</td>\n",
       "      <td>5885</td>\n",
       "      <td>796</td>\n",
       "      <td>37007</td>\n",
       "    </tr>\n",
       "    <tr>\n",
       "      <th>DIREITO</th>\n",
       "      <td>7665</td>\n",
       "      <td>7363</td>\n",
       "      <td>7885</td>\n",
       "      <td>7027</td>\n",
       "      <td>5861</td>\n",
       "      <td>905</td>\n",
       "      <td>36706</td>\n",
       "    </tr>\n",
       "    <tr>\n",
       "      <th>FILOSOFIA</th>\n",
       "      <td>6950</td>\n",
       "      <td>7576</td>\n",
       "      <td>7389</td>\n",
       "      <td>6296</td>\n",
       "      <td>5572</td>\n",
       "      <td>832</td>\n",
       "      <td>34615</td>\n",
       "    </tr>\n",
       "    <tr>\n",
       "      <th>PEDAGOGIA</th>\n",
       "      <td>7189</td>\n",
       "      <td>7153</td>\n",
       "      <td>7434</td>\n",
       "      <td>6518</td>\n",
       "      <td>5869</td>\n",
       "      <td>866</td>\n",
       "      <td>35029</td>\n",
       "    </tr>\n",
       "    <tr>\n",
       "      <th>TOTAL</th>\n",
       "      <td>44224</td>\n",
       "      <td>44087</td>\n",
       "      <td>45186</td>\n",
       "      <td>39353</td>\n",
       "      <td>34864</td>\n",
       "      <td>5124</td>\n",
       "      <td>212838</td>\n",
       "    </tr>\n",
       "  </tbody>\n",
       "</table>\n",
       "</div>"
      ],
      "text/plain": [
       "ANO                  2015   2016   2017   2018   2019  2020   TOTAL\n",
       "CURSO                                                              \n",
       "BIBLIOTECONOMIA      7784   7044   7307   6378   5889   900   35302\n",
       "CIÊNCIAS SOCIAIS     7489   6978   6918   6181   5788   825   34179\n",
       "COMUNICAÇÃO SOCIAL   7147   7973   8253   6953   5885   796   37007\n",
       "DIREITO              7665   7363   7885   7027   5861   905   36706\n",
       "FILOSOFIA            6950   7576   7389   6296   5572   832   34615\n",
       "PEDAGOGIA            7189   7153   7434   6518   5869   866   35029\n",
       "TOTAL               44224  44087  45186  39353  34864  5124  212838"
      ]
     },
     "execution_count": 149,
     "metadata": {},
     "output_type": "execute_result"
    }
   ],
   "source": [
    "emprestimos_aluno_curso_pivot = emprestimos_cursos_selecionados.pivot_table(\n",
    "    index='CURSO',\n",
    "    columns='ANO',\n",
    "    values='QUANTIDADE_EMPRESTIMOS',\n",
    "    fill_value=0,\n",
    "    aggfunc='sum',\n",
    "    margins=True,\n",
    "    margins_name='TOTAL'\n",
    ")\n",
    "emprestimos_aluno_curso_pivot"
   ]
  }
 ],
 "metadata": {
  "kernelspec": {
   "display_name": ".venv",
   "language": "python",
   "name": "python3"
  },
  "language_info": {
   "codemirror_mode": {
    "name": "ipython",
    "version": 3
   },
   "file_extension": ".py",
   "mimetype": "text/x-python",
   "name": "python",
   "nbconvert_exporter": "python",
   "pygments_lexer": "ipython3",
   "version": "3.12.10"
  }
 },
 "nbformat": 4,
 "nbformat_minor": 5
}
